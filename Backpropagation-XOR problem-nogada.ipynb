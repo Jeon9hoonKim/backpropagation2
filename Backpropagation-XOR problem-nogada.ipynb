{
 "cells": [
  {
   "cell_type": "code",
   "execution_count": 1,
   "metadata": {
    "collapsed": true
   },
   "outputs": [],
   "source": [
    "import numpy as np\n",
    "import matplotlib.pyplot as plt\n",
    "import random\n",
    "%matplotlib inline"
   ]
  },
  {
   "cell_type": "code",
   "execution_count": 2,
   "metadata": {
    "collapsed": true
   },
   "outputs": [],
   "source": [
    "def sigmoid(x):\n",
    "    return 1/(1+np.exp(-x))"
   ]
  },
  {
   "cell_type": "code",
   "execution_count": 3,
   "metadata": {
    "collapsed": true
   },
   "outputs": [],
   "source": [
    "def z(x1,x2,w1,w2,b):\n",
    "    return w1*x1+w2*x2+b"
   ]
  },
  {
   "cell_type": "markdown",
   "metadata": {},
   "source": [
    "# 1. Weight and Bias"
   ]
  },
  {
   "cell_type": "code",
   "execution_count": 4,
   "metadata": {},
   "outputs": [
    {
     "name": "stdout",
     "output_type": "stream",
     "text": [
      "0.47499491428551754 0.49994328549162714 0.6768603654480274 0.27110645420666957 0.6792174610581644 0.9856412491312712\n",
      "0.7384351347020709 0.5705956079672723 0.47128715719462366\n"
     ]
    }
   ],
   "source": [
    "#weight and bias\n",
    "#random.seed(0)\n",
    "w11=random.random()\n",
    "w12=random.random()\n",
    "w21=random.random()\n",
    "w22=random.random()\n",
    "w1=random.random()\n",
    "w2=random.random()\n",
    "b1=random.random()\n",
    "b2=random.random()\n",
    "b3=random.random()\n",
    "print (w11, w12, w21, w22, w1, w2)\n",
    "print (b1, b2, b3)"
   ]
  },
  {
   "cell_type": "code",
   "execution_count": 5,
   "metadata": {
    "collapsed": true
   },
   "outputs": [],
   "source": [
    "def loss(h31,h32,h33,h34): \n",
    "    \n",
    "    return (h31**2+(h32-1)**2+(h33-1)**2+h34**2)"
   ]
  },
  {
   "cell_type": "code",
   "execution_count": 6,
   "metadata": {
    "collapsed": true
   },
   "outputs": [],
   "source": [
    "loss_array = []"
   ]
  },
  {
   "cell_type": "markdown",
   "metadata": {},
   "source": [
    "# 2. Training"
   ]
  },
  {
   "cell_type": "code",
   "execution_count": 7,
   "metadata": {},
   "outputs": [
    {
     "name": "stdout",
     "output_type": "stream",
     "text": [
      "epoch : 0 loss : 1.47456218095\n",
      "pridict : (0,0): 0.826440702888 (0,1): 0.846391485955 (1,0): 0.849272422651 (1,1): 0.863274908357\n",
      "epoch : 10000 loss : 0.479142402727\n",
      "pridict : (0,0): 0.118146811888 (0,1): 0.680741878171 (1,0): 0.677512922366 (1,1): 0.509175873322\n",
      "epoch : 20000 loss : 0.00890464279246\n",
      "pridict : (0,0): 0.0475981210926 (0,1): 0.954538820005 (1,0): 0.954542636963 (1,1): 0.0500596735913\n",
      "epoch : 30000 loss : 0.00404280647718\n",
      "pridict : (0,0): 0.0334663391474 (0,1): 0.969541941383 (1,0): 0.969544231033 (1,1): 0.0326735890771\n",
      "epoch : 40000 loss : 0.00258133360875\n",
      "pridict : (0,0): 0.027188740348 (0,1): 0.975720252469 (1,0): 0.975721924073 (1,1): 0.0257521823564\n",
      "epoch : 50000 loss : 0.00188606944302\n",
      "pridict : (0,0): 0.0234566177341 (0,1): 0.979274659855 (1,0): 0.979275992198 (1,1): 0.0218364901933\n",
      "epoch : 60000 loss : 0.00148180187881\n",
      "pridict : (0,0): 0.0209176635727 (0,1): 0.981646558314 (1,0): 0.981647674363 (1,1): 0.0192508844336\n",
      "epoch : 70000 loss : 0.00121823748525\n",
      "pridict : (0,0): 0.0190489526867 (0,1): 0.983369812993 (1,0): 0.983370778225 (1,1): 0.0173862229958\n",
      "epoch : 80000 loss : 0.00103314970862\n",
      "pridict : (0,0): 0.017600385609 (0,1): 0.984693048728 (1,0): 0.984693902321 (1,1): 0.015962354201\n",
      "epoch : 90000 loss : 0.00089620133793\n",
      "pridict : (0,0): 0.0164354440474 (0,1): 0.98574948485 (1,0): 0.985750252197 (1,1): 0.0148305435636\n",
      "epoch : 99999 loss : 0.000790875950692\n",
      "pridict : (0,0): 0.0154725965113 (0,1): 0.986617592771 (1,0): 0.986618291318 (1,1): 0.0139038037027\n"
     ]
    }
   ],
   "source": [
    "epoch = 100000\n",
    "learning_rate = 0.3\n",
    "scale = 1\n",
    "for i in range(epoch):\n",
    "    \n",
    "    #Layer2\n",
    "    z11=z(0,0,w11,w21,b1)\n",
    "    z12=z(0,1,w11,w21,b1)\n",
    "    z13=z(1,0,w11,w21,b1)\n",
    "    z14=z(1,1,w11,w21,b1)\n",
    "    z21=z(0,0,w12,w22,b2)\n",
    "    z22=z(0,1,w12,w22,b2)\n",
    "    z23=z(1,0,w12,w22,b2)\n",
    "    z24=z(1,1,w12,w22,b2)\n",
    "    h11=sigmoid(z11*scale)\n",
    "    h12=sigmoid(z12*scale)\n",
    "    h13=sigmoid(z13*scale)\n",
    "    h14=sigmoid(z14*scale)\n",
    "    h21=sigmoid(z21*scale)\n",
    "    h22=sigmoid(z22*scale)\n",
    "    h23=sigmoid(z23*scale)\n",
    "    h24=sigmoid(z24*scale)\n",
    "    \n",
    "    #Output Layer\n",
    "    z31=z(h11,h21,w1,w2,b3)\n",
    "    z32=z(h12,h22,w1,w2,b3)\n",
    "    z33=z(h13,h23,w1,w2,b3)\n",
    "    z34=z(h14,h24,w1,w2,b3)\n",
    "    h31=sigmoid(z31)\n",
    "    h32=sigmoid(z32)\n",
    "    h33=sigmoid(z33)\n",
    "    h34=sigmoid(z34)\n",
    "    \n",
    "    #loss\n",
    "    \n",
    "    cost = loss(h31,h32,h33,h34)\n",
    "    loss_array.append(cost)\n",
    "    #d1\n",
    "    d11=h31*(1-h31)*(h31)\n",
    "    d12=h32*(1-h32)*(h32-1)\n",
    "    d13=h33*(1-h33)*(h33-1)\n",
    "    d14=h34*(1-h34)*h34\n",
    "    \n",
    "    #dw-Layer2\n",
    "    #(0,0)\n",
    "    dw211=d11*h11\n",
    "    dw212=d11*h21\n",
    "    #(0,1)\n",
    "    dw221=d12*h12\n",
    "    dw222=d12*h22\n",
    "    #(1,0)\n",
    "    dw231=d13*h13\n",
    "    dw232=d13*h23\n",
    "    #(1,1)\n",
    "    dw241=d14*h14\n",
    "    dw242=d14*h24\n",
    "    \n",
    "    #d2\n",
    "    #(0,0)\n",
    "    d211=d11*w1\n",
    "    d212=d11*w2\n",
    "    #(0,1)\n",
    "    d221=d12*w1\n",
    "    d222=d12*w2\n",
    "    #(1,0)\n",
    "    d231=d13*w1\n",
    "    d232=d13*w2\n",
    "    #(1,1)\n",
    "    d241=d14*w1\n",
    "    d242=d14*w2\n",
    "    \n",
    "    #d3\n",
    "    d311=d211*h11*(1-h11)\n",
    "    d312=d212*h21*(1-h21)\n",
    "    d321=d221*h12*(1-h12)\n",
    "    d322=d222*h22*(1-h22)\n",
    "    d331=d231*h13*(1-h13)\n",
    "    d332=d232*h23*(1-h23)\n",
    "    d341=d241*h14*(1-h14)\n",
    "    d342=d242*h24*(1-h24)\n",
    "    \n",
    "    #dw-Layer1 ,(w11, w21, w12, w22)\n",
    "    #(0,0)\n",
    "    dw1111=d311*0\n",
    "    dw1112=d311*0\n",
    "    dw1121=d312*0\n",
    "    dw1122=d312*0\n",
    "    #(0,1)\n",
    "    dw1211=d321*0\n",
    "    dw1212=d321*1\n",
    "    dw1221=d322*0\n",
    "    dw1222=d322*1\n",
    "    #(1,0)\n",
    "    dw1311=d331*1\n",
    "    dw1312=d331*0\n",
    "    dw1321=d332*1\n",
    "    dw1322=d332*0\n",
    "    #(1,1)\n",
    "    dw1411=d341*1\n",
    "    dw1412=d341*1\n",
    "    dw1421=d342*1\n",
    "    dw1422=d342*1\n",
    "    \n",
    "\n",
    "    #weight update\n",
    "    w11=w11-learning_rate*(dw1111+dw1211+dw1311+dw1411)/4\n",
    "    w21=w21-learning_rate*(dw1112+dw1212+dw1312+dw1412)/4\n",
    "    w12=w12-learning_rate*(dw1121+dw1221+dw1321+dw1421)/4\n",
    "    w22=w22-learning_rate*(dw1122+dw1222+dw1322+dw1422)/4\n",
    "    w1=w1-learning_rate*(dw211+dw221+dw231+dw241)/4\n",
    "    w2=w2-learning_rate*(dw212+dw222+dw232+dw242)/4\n",
    "    b1=b1-learning_rate*(d311+d321+d331+d341)/4\n",
    "    b2=b2-learning_rate*(d312+d322+d332+d342)/4\n",
    "    b3=b3-learning_rate*(d11+d12+d13+d14)/4\n",
    "    \n",
    "    if (i%(epoch/10) == 0):\n",
    "        print('epoch :',i,'loss :',cost)\n",
    "        print('pridict :', '(0,0):', h31, '(0,1):', h32, '(1,0):', h33, '(1,1):', h34)\n",
    "    if (i == epoch-1):\n",
    "        print('epoch :',i,'loss :',cost)\n",
    "        print('pridict :', '(0,0):', h31, '(0,1):', h32, '(1,0):', h33, '(1,1):', h34)"
   ]
  },
  {
   "cell_type": "markdown",
   "metadata": {},
   "source": [
    "# 3. Result"
   ]
  },
  {
   "cell_type": "code",
   "execution_count": 8,
   "metadata": {},
   "outputs": [
    {
     "name": "stdout",
     "output_type": "stream",
     "text": [
      "pridict : (0,0): 0.015473 (0,1): 0.986618 (1,0): 0.986618 (1,1): 0.013904\n"
     ]
    }
   ],
   "source": [
    "print('pridict :', '(0,0):', '{0:.6f}'.format(h31), '(0,1):', '{0:.6f}'.format(h32)\n",
    "      , '(1,0):', '{0:.6f}'.format(h33), '(1,1):', '{0:.6f}'.format(h34))"
   ]
  },
  {
   "cell_type": "code",
   "execution_count": 9,
   "metadata": {},
   "outputs": [
    {
     "name": "stdout",
     "output_type": "stream",
     "text": [
      "[0.0, 1.0, 1.0, 0.0]\n"
     ]
    }
   ],
   "source": [
    "print([round(h31),round(h32),round(h33),round(h34)])"
   ]
  },
  {
   "cell_type": "code",
   "execution_count": 10,
   "metadata": {},
   "outputs": [
    {
     "data": {
      "image/png": "[encoded data removed]",
      "text/plain": [
       "<matplotlib.figure.Figure at 0x239b0b1f60>"
      ]
     },
     "metadata": {},
     "output_type": "display_data"
    }
   ],
   "source": [
    "plt.plot(loss_array);\n",
    "plt.title('cost function',fontsize =24);\n",
    "plt.xlabel('epoch',fontsize=14);\n",
    "plt.ylabel('cost',fontsize=14);"
   ]
  },
  {
   "cell_type": "code",
   "execution_count": null,
   "metadata": {
    "collapsed": true
   },
   "outputs": [],
   "source": []
  }
 ],
 "metadata": {
  "kernelspec": {
   "display_name": "Python 3",
   "language": "python",
   "name": "python3"
  },
  "language_info": {
   "codemirror_mode": {
    "name": "ipython",
    "version": 3
   },
   "file_extension": ".py",
   "mimetype": "text/x-python",
   "name": "python",
   "nbconvert_exporter": "python",
   "pygments_lexer": "ipython3",
   "version": "3.6.1"
  }
 },
 "nbformat": 4,
 "nbformat_minor": 2
}
