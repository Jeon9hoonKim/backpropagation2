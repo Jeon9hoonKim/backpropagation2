{
 "cells": [
  {
   "cell_type": "code",
   "execution_count": 1,
   "metadata": {},
   "outputs": [],
   "source": [
    "import numpy as np\n",
    "import matplotlib.pyplot as plt\n",
    "%matplotlib inline"
   ]
  },
  {
   "cell_type": "markdown",
   "metadata": {},
   "source": [
    "# 1. Make Samples"
   ]
  },
  {
   "cell_type": "code",
   "execution_count": 2,
   "metadata": {},
   "outputs": [
    {
     "name": "stdout",
     "output_type": "stream",
     "text": [
      "(2, 4) (1, 4)\n"
     ]
    }
   ],
   "source": [
    "x = np.array([[0,0],[0,1],[1,0],[1,1]]).T\n",
    "y = np.array([[0],[1],[1],[0]]).T\n",
    "print(x.shape, y.shape)"
   ]
  },
  {
   "cell_type": "markdown",
   "metadata": {},
   "source": [
    "# 2. Weight and Bias"
   ]
  },
  {
   "cell_type": "code",
   "execution_count": 3,
   "metadata": {},
   "outputs": [
    {
     "name": "stdout",
     "output_type": "stream",
     "text": [
      "[[ 0.79392113  0.81524376]\n",
      " [ 0.25198211  0.53270137]] (2, 2)\n",
      "[[ 0.72002958  0.83932552]] (1, 2)\n"
     ]
    }
   ],
   "source": [
    "a,b = x.shape\n",
    "w1 = np.random.rand(a,a)#*2-1\n",
    "w2 = np.random.rand(a)#*2-1\n",
    "w2 = np.array([w2])\n",
    "b1 = np.random.rand(a)#*2-1\n",
    "b2 = np.random.rand(1)#*2-1\n",
    "print(w1,w1.shape)\n",
    "print(w2,w2.shape)"
   ]
  },
  {
   "cell_type": "markdown",
   "metadata": {},
   "source": [
    "# 3. Training"
   ]
  },
  {
   "cell_type": "code",
   "execution_count": 4,
   "metadata": {
    "collapsed": true
   },
   "outputs": [],
   "source": [
    "def sigmoid(x):\n",
    "    return 1/(1+np.exp(-x))"
   ]
  },
  {
   "cell_type": "code",
   "execution_count": 5,
   "metadata": {
    "collapsed": true
   },
   "outputs": [],
   "source": [
    "def loss(h,y):\n",
    "    cost = 0\n",
    "    for i in range(4):\n",
    "        cost += (1/y.size)*(h-y)**2\n",
    "    return cost"
   ]
  },
  {
   "cell_type": "code",
   "execution_count": 6,
   "metadata": {
    "collapsed": true
   },
   "outputs": [],
   "source": [
    "def predict(h):\n",
    "    return np.round(h)"
   ]
  },
  {
   "cell_type": "code",
   "execution_count": 7,
   "metadata": {},
   "outputs": [],
   "source": [
    "# hyperparameter\n",
    "epoch = 100000\n",
    "learning_rate = 0.3\n",
    "scale = 1\n",
    "\n",
    "cost_array = []"
   ]
  },
  {
   "cell_type": "code",
   "execution_count": 8,
   "metadata": {
    "scrolled": true
   },
   "outputs": [
    {
     "name": "stdout",
     "output_type": "stream",
     "text": [
      "epoch : 0 loss : 1.32049319902\n",
      "epoch : 10000 loss : 0.0211026057506\n",
      "epoch : 20000 loss : 0.00571513734663\n",
      "epoch : 30000 loss : 0.00320326677253\n",
      "epoch : 40000 loss : 0.00220524843747\n",
      "epoch : 50000 loss : 0.0016745090916\n",
      "epoch : 60000 loss : 0.00134661196022\n",
      "epoch : 70000 loss : 0.00112450383463\n",
      "epoch : 80000 loss : 0.000964365820286\n",
      "epoch : 90000 loss : 0.000843575345806\n",
      "epoch : 99999 loss : 0.000749303091143\n"
     ]
    }
   ],
   "source": [
    "for i in range(epoch):\n",
    "    # forward propagation\n",
    "    z1 = np.dot(w1,x)+np.array([b1]*4).T\n",
    "    h1 = sigmoid(scale*z1)\n",
    "    z2 = np.dot(w2,h1)+b2\n",
    "    h2 = sigmoid(scale*z2)\n",
    "    \n",
    "    # loss\n",
    "    cost = loss(h2, y)\n",
    "    cost_array.append(cost.sum())\n",
    "    \n",
    "    # backpropagation\n",
    "    d1 = h2-y\n",
    "    d2 = d1*h2*(1-h2)*scale\n",
    "    dw2 = np.dot(d2,h1.T)\n",
    "    \n",
    "    d3 = np.dot(w2.T,d2)\n",
    "    d4 = d3*h1*(1-h1)*scale\n",
    "    dw1 = np.dot(d4,x.T)\n",
    "    \n",
    "    w2 = w2 - learning_rate*dw2/y.size\n",
    "    w1 = w1 - learning_rate*dw1/y.size\n",
    "    \n",
    "    b2 = b2 - learning_rate*d2.mean(axis=1)\n",
    "    b1 = b1 - learning_rate*d4.mean(axis=1)\n",
    "    \n",
    "    if (i%(epoch/10) == 0):\n",
    "        print('epoch :',i,'loss :',cost.sum())#,'dw1 :',dw1,'dw2 :',dw2)\n",
    "    if (i == epoch-1):\n",
    "        print('epoch :',i,'loss :',cost.sum())#,'dw1 :',dw1,'dw2 :',dw2)"
   ]
  },
  {
   "cell_type": "markdown",
   "metadata": {},
   "source": [
    "# 4. Result"
   ]
  },
  {
   "cell_type": "code",
   "execution_count": 9,
   "metadata": {},
   "outputs": [
    {
     "data": {
      "text/plain": [
       "array([[ 0.01516666,  0.98698424,  0.98697853,  0.01342784]])"
      ]
     },
     "execution_count": 9,
     "metadata": {},
     "output_type": "execute_result"
    }
   ],
   "source": [
    "h2"
   ]
  },
  {
   "cell_type": "code",
   "execution_count": 10,
   "metadata": {},
   "outputs": [
    {
     "data": {
      "text/plain": [
       "array([[ 0.,  1.,  1.,  0.]])"
      ]
     },
     "execution_count": 10,
     "metadata": {},
     "output_type": "execute_result"
    }
   ],
   "source": [
    "predict(h2)"
   ]
  },
  {
   "cell_type": "code",
   "execution_count": 11,
   "metadata": {},
   "outputs": [
    {
     "data": {
      "image/png": "[encoded data removed]",
      "text/plain": [
       "<matplotlib.figure.Figure at 0xc362aa1ac8>"
      ]
     },
     "metadata": {},
     "output_type": "display_data"
    }
   ],
   "source": [
    "plt.plot(cost_array);\n",
    "plt.title('cost function',fontsize =24);\n",
    "plt.xlabel('epoch',fontsize=14);\n",
    "plt.ylabel('cost',fontsize=14);"
   ]
  }
 ],
 "metadata": {
  "kernelspec": {
   "display_name": "Python 3",
   "language": "python",
   "name": "python3"
  },
  "language_info": {
   "codemirror_mode": {
    "name": "ipython",
    "version": 3
   },
   "file_extension": ".py",
   "mimetype": "text/x-python",
   "name": "python",
   "nbconvert_exporter": "python",
   "pygments_lexer": "ipython3",
   "version": "3.6.1"
  }
 },
 "nbformat": 4,
 "nbformat_minor": 2
}
